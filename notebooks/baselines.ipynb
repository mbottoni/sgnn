{
 "cells": [
  {
   "cell_type": "code",
   "execution_count": 5,
   "metadata": {},
   "outputs": [
    {
     "name": "stdout",
     "output_type": "stream",
     "text": [
      "The autoreload extension is already loaded. To reload it, use:\n",
      "  %reload_ext autoreload\n"
     ]
    },
    {
     "ename": "ModuleNotFoundError",
     "evalue": "No module named 'grakel'",
     "output_type": "error",
     "traceback": [
      "\u001b[0;31m---------------------------------------------------------------------------\u001b[0m",
      "\u001b[0;31mModuleNotFoundError\u001b[0m                       Traceback (most recent call last)",
      "Cell \u001b[0;32mIn[5], line 15\u001b[0m\n\u001b[1;32m     13\u001b[0m \u001b[38;5;28;01mimport\u001b[39;00m \u001b[38;5;21;01mnumpy\u001b[39;00m \u001b[38;5;28;01mas\u001b[39;00m \u001b[38;5;21;01mnp\u001b[39;00m\n\u001b[1;32m     14\u001b[0m \u001b[38;5;28;01mimport\u001b[39;00m \u001b[38;5;21;01mnetworkx\u001b[39;00m \u001b[38;5;28;01mas\u001b[39;00m \u001b[38;5;21;01mnx\u001b[39;00m\n\u001b[0;32m---> 15\u001b[0m \u001b[38;5;28;01mfrom\u001b[39;00m \u001b[38;5;21;01msrc\u001b[39;00m\u001b[38;5;21;01m.\u001b[39;00m\u001b[38;5;21;01mutils\u001b[39;00m\u001b[38;5;21;01m.\u001b[39;00m\u001b[38;5;21;01mdistances\u001b[39;00m \u001b[38;5;28;01mimport\u001b[39;00m (\n\u001b[1;32m     16\u001b[0m     distance_frobenius,\n\u001b[1;32m     17\u001b[0m     distance_procrustes_LE,\n\u001b[1;32m     18\u001b[0m     DeltaConDistance,\n\u001b[1;32m     19\u001b[0m     WL_distance\n\u001b[1;32m     20\u001b[0m )\n\u001b[1;32m     21\u001b[0m \u001b[38;5;28;01mimport\u001b[39;00m \u001b[38;5;21;01mmatplotlib\u001b[39;00m\u001b[38;5;21;01m.\u001b[39;00m\u001b[38;5;21;01mpyplot\u001b[39;00m \u001b[38;5;28;01mas\u001b[39;00m \u001b[38;5;21;01mplt\u001b[39;00m\n\u001b[1;32m     22\u001b[0m \u001b[38;5;28;01mimport\u001b[39;00m \u001b[38;5;21;01mseaborn\u001b[39;00m \u001b[38;5;28;01mas\u001b[39;00m \u001b[38;5;21;01msns\u001b[39;00m\n",
      "File \u001b[0;32m~/home/sgnn/notebooks/../src/utils/distances.py:3\u001b[0m\n\u001b[1;32m      1\u001b[0m \u001b[38;5;28;01mimport\u001b[39;00m \u001b[38;5;21;01mnumpy\u001b[39;00m \u001b[38;5;28;01mas\u001b[39;00m \u001b[38;5;21;01mnp\u001b[39;00m\n\u001b[1;32m      2\u001b[0m \u001b[38;5;28;01mimport\u001b[39;00m \u001b[38;5;21;01mscipy\u001b[39;00m\u001b[38;5;21;01m.\u001b[39;00m\u001b[38;5;21;01msparse\u001b[39;00m \u001b[38;5;28;01mas\u001b[39;00m \u001b[38;5;21;01mss\u001b[39;00m\n\u001b[0;32m----> 3\u001b[0m \u001b[38;5;28;01mimport\u001b[39;00m \u001b[38;5;21;01mgrakel\u001b[39;00m\n\u001b[1;32m      4\u001b[0m \u001b[38;5;28;01mfrom\u001b[39;00m \u001b[38;5;21;01mgrakel\u001b[39;00m\u001b[38;5;21;01m.\u001b[39;00m\u001b[38;5;21;01mkernels\u001b[39;00m \u001b[38;5;28;01mimport\u001b[39;00m WeisfeilerLehman, VertexHistogram, ShortestPath, WeisfeilerLehmanOptimalAssignment, GraphletSampling, MultiscaleLaplacian\n\u001b[1;32m      5\u001b[0m \u001b[38;5;28;01mfrom\u001b[39;00m \u001b[38;5;21;01msrc\u001b[39;00m\u001b[38;5;21;01m.\u001b[39;00m\u001b[38;5;21;01mutils\u001b[39;00m\u001b[38;5;21;01m.\u001b[39;00m\u001b[38;5;21;01mgraphs\u001b[39;00m \u001b[38;5;28;01mimport\u001b[39;00m laplacian_embeddings\n",
      "\u001b[0;31mModuleNotFoundError\u001b[0m: No module named 'grakel'"
     ]
    }
   ],
   "source": [
    "%load_ext autoreload\n",
    "%autoreload 2\n",
    "\n",
    "import torch\n",
    "import torch.nn as nn\n",
    "import torch.nn.functional as F\n",
    "\n",
    "import os\n",
    "import sys\n",
    "sys.path.append('.')\n",
    "sys.path.append('../')\n",
    "sys.path.append('../../')\n",
    "import numpy as np\n",
    "import networkx as nx\n",
    "from src.utils.distances import (\n",
    "    distance_frobenius,\n",
    "    distance_procrustes_LE,\n",
    "    DeltaConDistance,\n",
    "    WL_distance\n",
    ")\n",
    "import matplotlib.pyplot as plt\n",
    "import seaborn as sns\n",
    "\n"
   ]
  },
  {
   "cell_type": "code",
   "execution_count": null,
   "metadata": {},
   "outputs": [],
   "source": [
    "\n",
    "n_nodes = 100  # number of nodes\n",
    "n_graphs = 10  # number of graphs to generate for each probability\n",
    "p_values = np.linspace(0.1, 0.9, 9)  # different probability values\n",
    "n_experiments = 10  # number of times to repeat each comparison\n",
    "\n",
    "# Initialize results dictionary\n",
    "results = {\n",
    "    'Frobenius': [],\n",
    "    'Procrustes': [],\n",
    "    'DeltaCon': [],\n",
    "    'WL': [],\n",
    "    'p_values': [],\n",
    "}\n",
    "\n",
    "# Run experiments\n",
    "for p1 in p_values:\n",
    "    for _ in range(n_experiments):\n",
    "        # Generate two random graphs with same probability\n",
    "        G1 = nx.erdos_renyi_graph(n_nodes, p1)\n",
    "        G2 = nx.erdos_renyi_graph(n_nodes, p1)\n",
    "        \n",
    "        # Convert to adjacency matrices\n",
    "        A1 = nx.to_numpy_array(G1)\n",
    "        A2 = nx.to_numpy_array(G2)\n",
    "        \n",
    "        # Calculate distances\n",
    "        frob_dist = distance_frobenius(A1, A2)\n",
    "        proc_dist = distance_procrustes_LE(A1, A2, k=10)\n",
    "        delta_dist = DeltaConDistance(A1, A2)\n",
    "        wl_dist = WL_distance(A1, A2, n_iter=5)\n",
    "        \n",
    "        # Store results\n",
    "        results['Frobenius'].append(frob_dist)\n",
    "        results['Procrustes'].append(proc_dist)\n",
    "        results['DeltaCon'].append(delta_dist)\n",
    "        results['WL'].append(wl_dist)\n",
    "        results['p_values'].append(p1)\n"
   ]
  },
  {
   "cell_type": "code",
   "execution_count": null,
   "metadata": {},
   "outputs": [],
   "source": [
    "# Plot results\n",
    "plt.figure(figsize=(12, 8))\n",
    "for metric in ['Frobenius', 'Procrustes', 'DeltaCon', 'WL']:\n",
    "    sns.boxplot(x='p_values', y=metric, data={\n",
    "        'p_values': results['p_values'],\n",
    "        metric: results[metric]\n",
    "    })\n",
    "    plt.title(f'{metric} Distance vs Edge Probability')\n",
    "    plt.xlabel('Edge Probability (p)')\n",
    "    plt.ylabel('Distance')\n",
    "    plt.show()\n",
    "\n",
    "# Calculate correlations between distances\n",
    "distance_matrix = np.array([\n",
    "    results['Frobenius'],\n",
    "    results['Procrustes'],\n",
    "    results['DeltaCon'],\n",
    "    results['WL']\n",
    "]).T\n",
    "\n",
    "correlation_matrix = np.corrcoef(distance_matrix.T)\n",
    "plt.figure(figsize=(8, 6))\n",
    "sns.heatmap(correlation_matrix, \n",
    "            annot=True, \n",
    "            xticklabels=['Frobenius', 'Procrustes', 'DeltaCon', 'WL'],\n",
    "            yticklabels=['Frobenius', 'Procrustes', 'DeltaCon', 'WL'])\n",
    "plt.title('Correlation between Distance Measures')\n",
    "plt.show()"
   ]
  },
  {
   "cell_type": "code",
   "execution_count": null,
   "metadata": {},
   "outputs": [],
   "source": []
  },
  {
   "cell_type": "code",
   "execution_count": null,
   "metadata": {},
   "outputs": [],
   "source": []
  }
 ],
 "metadata": {
  "kernelspec": {
   "display_name": "gce",
   "language": "python",
   "name": "python3"
  },
  "language_info": {
   "codemirror_mode": {
    "name": "ipython",
    "version": 3
   },
   "file_extension": ".py",
   "mimetype": "text/x-python",
   "name": "python",
   "nbconvert_exporter": "python",
   "pygments_lexer": "ipython3",
   "version": "3.8.20"
  }
 },
 "nbformat": 4,
 "nbformat_minor": 2
}
